{
 "cells": [
  {
   "cell_type": "code",
   "execution_count": 5,
   "metadata": {},
   "outputs": [],
   "source": [
    "# import featuretools as fts\n",
    "import pandas as pd\n",
    "import numpy as np\n",
    "import matplotlib.pyplot as plt\n",
    "import seaborn as sns\n"
   ]
  },
  {
   "cell_type": "code",
   "execution_count": 6,
   "metadata": {},
   "outputs": [
    {
     "name": "stdout",
     "output_type": "stream",
     "text": [
      "Checking whether there is an H2O instance running at http://localhost:54321 ..... not found.\n",
      "Attempting to start a local H2O server...\n",
      "  Java Version: openjdk version \"11.0.10\" 2021-01-19; OpenJDK Runtime Environment (build 11.0.10+9); OpenJDK 64-Bit Server VM (build 11.0.10+9, mixed mode)\n",
      "  Starting server from /Users/GLanku/Nike/hackathon/venv/lib/python3.7/site-packages/h2o/backend/bin/h2o.jar\n",
      "  Ice root: /var/folders/11/tt9925cj40j98g3015hkt78c0000gn/T/tmppo4t4enr\n",
      "  JVM stdout: /var/folders/11/tt9925cj40j98g3015hkt78c0000gn/T/tmppo4t4enr/h2o_GLanku_started_from_python.out\n",
      "  JVM stderr: /var/folders/11/tt9925cj40j98g3015hkt78c0000gn/T/tmppo4t4enr/h2o_GLanku_started_from_python.err\n",
      "  Server is running at http://127.0.0.1:54321\n",
      "Connecting to H2O server at http://127.0.0.1:54321 ... successful.\n"
     ]
    },
    {
     "data": {
      "text/html": [
       "<div style=\"overflow:auto\"><table style=\"width:50%\"><tr><td>H2O_cluster_uptime:</td>\n",
       "<td>02 secs</td></tr>\n",
       "<tr><td>H2O_cluster_timezone:</td>\n",
       "<td>Asia/Kolkata</td></tr>\n",
       "<tr><td>H2O_data_parsing_timezone:</td>\n",
       "<td>UTC</td></tr>\n",
       "<tr><td>H2O_cluster_version:</td>\n",
       "<td>3.34.0.1</td></tr>\n",
       "<tr><td>H2O_cluster_version_age:</td>\n",
       "<td>4 days </td></tr>\n",
       "<tr><td>H2O_cluster_name:</td>\n",
       "<td>H2O_from_python_GLanku_z27za1</td></tr>\n",
       "<tr><td>H2O_cluster_total_nodes:</td>\n",
       "<td>1</td></tr>\n",
       "<tr><td>H2O_cluster_free_memory:</td>\n",
       "<td>4 Gb</td></tr>\n",
       "<tr><td>H2O_cluster_total_cores:</td>\n",
       "<td>12</td></tr>\n",
       "<tr><td>H2O_cluster_allowed_cores:</td>\n",
       "<td>12</td></tr>\n",
       "<tr><td>H2O_cluster_status:</td>\n",
       "<td>locked, healthy</td></tr>\n",
       "<tr><td>H2O_connection_url:</td>\n",
       "<td>http://127.0.0.1:54321</td></tr>\n",
       "<tr><td>H2O_connection_proxy:</td>\n",
       "<td>{\"http\": null, \"https\": null}</td></tr>\n",
       "<tr><td>H2O_internal_security:</td>\n",
       "<td>False</td></tr>\n",
       "<tr><td>H2O_API_Extensions:</td>\n",
       "<td>Amazon S3, XGBoost, Algos, AutoML, Core V3, TargetEncoder, Core V4</td></tr>\n",
       "<tr><td>Python_version:</td>\n",
       "<td>3.7.2 final</td></tr></table></div>"
      ],
      "text/plain": [
       "--------------------------  ------------------------------------------------------------------\n",
       "H2O_cluster_uptime:         02 secs\n",
       "H2O_cluster_timezone:       Asia/Kolkata\n",
       "H2O_data_parsing_timezone:  UTC\n",
       "H2O_cluster_version:        3.34.0.1\n",
       "H2O_cluster_version_age:    4 days\n",
       "H2O_cluster_name:           H2O_from_python_GLanku_z27za1\n",
       "H2O_cluster_total_nodes:    1\n",
       "H2O_cluster_free_memory:    4 Gb\n",
       "H2O_cluster_total_cores:    12\n",
       "H2O_cluster_allowed_cores:  12\n",
       "H2O_cluster_status:         locked, healthy\n",
       "H2O_connection_url:         http://127.0.0.1:54321\n",
       "H2O_connection_proxy:       {\"http\": null, \"https\": null}\n",
       "H2O_internal_security:      False\n",
       "H2O_API_Extensions:         Amazon S3, XGBoost, Algos, AutoML, Core V3, TargetEncoder, Core V4\n",
       "Python_version:             3.7.2 final\n",
       "--------------------------  ------------------------------------------------------------------"
      ]
     },
     "metadata": {},
     "output_type": "display_data"
    }
   ],
   "source": [
    "import h2o\n",
    "h2o.init()\n",
    "from h2o.estimators.glm import H2OGeneralizedLinearEstimator"
   ]
  },
  {
   "cell_type": "code",
   "execution_count": 3,
   "metadata": {},
   "outputs": [],
   "source": [
    "TRAIN_DIR = \"../data/TRAIN.CSV\"\n",
    "TEST_DIR = \"../data/TEST_FINAL.csv\""
   ]
  },
  {
   "cell_type": "code",
   "execution_count": 8,
   "metadata": {},
   "outputs": [
    {
     "name": "stdout",
     "output_type": "stream",
     "text": [
      "Parse progress: |████████████████████████████████████████████████████████████████| (done) 100%\n",
      "Parse progress: |████████████████████████████████████████████████████████████████| (done) 100%\n"
     ]
    }
   ],
   "source": [
    "train = h2o.import_file(\"../data/TRAIN.CSV\")\n",
    "test = h2o.import_file(\"../data/TEST_FINAL.csv\")"
   ]
  },
  {
   "cell_type": "code",
   "execution_count": 12,
   "metadata": {},
   "outputs": [
    {
     "data": {
      "text/html": [
       "<table>\n",
       "<thead>\n",
       "<tr><th>ID      </th><th style=\"text-align: right;\">  Store_id</th><th>Store_Type  </th><th>Location_Type  </th><th>Region_Code  </th><th>Date               </th><th style=\"text-align: right;\">  Holiday</th><th>Discount  </th><th style=\"text-align: right;\">  #Order</th><th style=\"text-align: right;\">   Sales</th></tr>\n",
       "</thead>\n",
       "<tbody>\n",
       "<tr><td>T1000001</td><td style=\"text-align: right;\">         1</td><td>S1          </td><td>L3             </td><td>R1           </td><td>2018-01-01 00:00:00</td><td style=\"text-align: right;\">        1</td><td>Yes       </td><td style=\"text-align: right;\">       9</td><td style=\"text-align: right;\"> 7011.84</td></tr>\n",
       "<tr><td>T1000002</td><td style=\"text-align: right;\">       253</td><td>S4          </td><td>L2             </td><td>R1           </td><td>2018-01-01 00:00:00</td><td style=\"text-align: right;\">        1</td><td>Yes       </td><td style=\"text-align: right;\">      60</td><td style=\"text-align: right;\">51789.1 </td></tr>\n",
       "<tr><td>T1000003</td><td style=\"text-align: right;\">       252</td><td>S3          </td><td>L2             </td><td>R1           </td><td>2018-01-01 00:00:00</td><td style=\"text-align: right;\">        1</td><td>Yes       </td><td style=\"text-align: right;\">      42</td><td style=\"text-align: right;\">36868.2 </td></tr>\n",
       "<tr><td>T1000004</td><td style=\"text-align: right;\">       251</td><td>S2          </td><td>L3             </td><td>R1           </td><td>2018-01-01 00:00:00</td><td style=\"text-align: right;\">        1</td><td>Yes       </td><td style=\"text-align: right;\">      23</td><td style=\"text-align: right;\">19715.2 </td></tr>\n",
       "<tr><td>T1000005</td><td style=\"text-align: right;\">       250</td><td>S2          </td><td>L3             </td><td>R4           </td><td>2018-01-01 00:00:00</td><td style=\"text-align: right;\">        1</td><td>Yes       </td><td style=\"text-align: right;\">      62</td><td style=\"text-align: right;\">45614.5 </td></tr>\n",
       "<tr><td>T1000006</td><td style=\"text-align: right;\">       249</td><td>S1          </td><td>L3             </td><td>R2           </td><td>2018-01-01 00:00:00</td><td style=\"text-align: right;\">        1</td><td>Yes       </td><td style=\"text-align: right;\">      39</td><td style=\"text-align: right;\">34211.2 </td></tr>\n",
       "<tr><td>T1000007</td><td style=\"text-align: right;\">       248</td><td>S1          </td><td>L1             </td><td>R2           </td><td>2018-01-01 00:00:00</td><td style=\"text-align: right;\">        1</td><td>Yes       </td><td style=\"text-align: right;\">      40</td><td style=\"text-align: right;\">35352.7 </td></tr>\n",
       "<tr><td>T1000008</td><td style=\"text-align: right;\">       247</td><td>S1          </td><td>L1             </td><td>R3           </td><td>2018-01-01 00:00:00</td><td style=\"text-align: right;\">        1</td><td>Yes       </td><td style=\"text-align: right;\">      64</td><td style=\"text-align: right;\">52650   </td></tr>\n",
       "<tr><td>T1000009</td><td style=\"text-align: right;\">       246</td><td>S3          </td><td>L1             </td><td>R3           </td><td>2018-01-01 00:00:00</td><td style=\"text-align: right;\">        1</td><td>Yes       </td><td style=\"text-align: right;\">      62</td><td style=\"text-align: right;\">42633.8 </td></tr>\n",
       "<tr><td>T1000010</td><td style=\"text-align: right;\">       254</td><td>S4          </td><td>L1             </td><td>R1           </td><td>2018-01-01 00:00:00</td><td style=\"text-align: right;\">        1</td><td>Yes       </td><td style=\"text-align: right;\">      87</td><td style=\"text-align: right;\">62572.8 </td></tr>\n",
       "</tbody>\n",
       "</table>"
      ]
     },
     "metadata": {},
     "output_type": "display_data"
    },
    {
     "data": {
      "text/plain": []
     },
     "execution_count": 12,
     "metadata": {},
     "output_type": "execute_result"
    }
   ],
   "source": [
    "train"
   ]
  },
  {
   "cell_type": "code",
   "execution_count": 19,
   "metadata": {},
   "outputs": [],
   "source": [
    "train_cols = [\"Store_id\",\"Store_Type\",\"Location_Type\",\"Region_Code\",\"Holiday\",\"Date\",\"Discount\"]"
   ]
  },
  {
   "cell_type": "code",
   "execution_count": 20,
   "metadata": {},
   "outputs": [],
   "source": [
    "predictors = train[train_cols]\n",
    "response = train['Sales']"
   ]
  },
  {
   "cell_type": "code",
   "execution_count": 21,
   "metadata": {},
   "outputs": [
    {
     "name": "stdout",
     "output_type": "stream",
     "text": [
      "glm Model Build progress: |██████████████████████████████████████████████████████| (done) 100%\n",
      "glm prediction progress: |███████████████████████████████████████████████████████| (done) 100%\n"
     ]
    }
   ],
   "source": [
    "boston_glm = H2OGeneralizedLinearEstimator(alpha = 0.25)\n",
    "boston_glm.train(x = train_cols,\n",
    "                 y = \"Sales\",\n",
    "                 training_frame = train)\n",
    "\n",
    "# predict using the model and the testing dataset\n",
    "predict = boston_glm.predict(test)\n"
   ]
  },
  {
   "cell_type": "code",
   "execution_count": 27,
   "metadata": {},
   "outputs": [
    {
     "data": {
      "text/plain": [
       "<AxesSubplot:>"
      ]
     },
     "execution_count": 27,
     "metadata": {},
     "output_type": "execute_result"
    },
    {
     "data": {
      "image/png": "[encoded data removed]",
      "text/plain": [
       "<Figure size 432x288 with 1 Axes>"
      ]
     },
     "metadata": {
      "needs_background": "light"
     },
     "output_type": "display_data"
    }
   ],
   "source": [
    "predict.as_data_frame().plot()"
   ]
  },
  {
   "cell_type": "code",
   "execution_count": 30,
   "metadata": {},
   "outputs": [
    {
     "data": {
      "text/plain": [
       "{'ID': 'string',\n",
       " 'Store_id': 'int',\n",
       " 'Store_Type': 'enum',\n",
       " 'Location_Type': 'enum',\n",
       " 'Region_Code': 'enum',\n",
       " 'Date': 'time',\n",
       " 'Holiday': 'int',\n",
       " 'Discount': 'enum',\n",
       " '#Order': 'int',\n",
       " 'Sales': 'real'}"
      ]
     },
     "execution_count": 30,
     "metadata": {},
     "output_type": "execute_result"
    }
   ],
   "source": [
    "train.types"
   ]
  },
  {
   "cell_type": "code",
   "execution_count": 28,
   "metadata": {},
   "outputs": [],
   "source": [
    "from h2o.automl import H2OAutoML\n"
   ]
  },
  {
   "cell_type": "code",
   "execution_count": 33,
   "metadata": {},
   "outputs": [
    {
     "data": {
      "text/plain": [
       "180"
      ]
     },
     "execution_count": 33,
     "metadata": {},
     "output_type": "execute_result"
    }
   ],
   "source": [
    "3*60"
   ]
  },
  {
   "cell_type": "code",
   "execution_count": 35,
   "metadata": {},
   "outputs": [
    {
     "name": "stdout",
     "output_type": "stream",
     "text": [
      "AutoML progress: |███████████████████████████████████████████████████████████████| (done) 100%\n"
     ]
    },
    {
     "data": {
      "text/html": [
       "<table>\n",
       "<thead>\n",
       "<tr><th>model_id                          </th><th style=\"text-align: right;\">  mean_residual_deviance</th><th style=\"text-align: right;\">   rmse</th><th style=\"text-align: right;\">        mse</th><th style=\"text-align: right;\">    mae</th><th style=\"text-align: right;\">  rmsle</th></tr>\n",
       "</thead>\n",
       "<tbody>\n",
       "<tr><td>GLM_1_AutoML_2_20210919_185146    </td><td style=\"text-align: right;\">             3.40648e+08</td><td style=\"text-align: right;\">18456.6</td><td style=\"text-align: right;\">3.40648e+08</td><td style=\"text-align: right;\">13857.5</td><td style=\"text-align: right;\">0.48262</td></tr>\n",
       "<tr><td>XGBoost_1_AutoML_2_20210919_185146</td><td style=\"text-align: right;\">             9.41133e+08</td><td style=\"text-align: right;\">30677.9</td><td style=\"text-align: right;\">9.41133e+08</td><td style=\"text-align: right;\">26575.7</td><td style=\"text-align: right;\">1.03776</td></tr>\n",
       "</tbody>\n",
       "</table>"
      ]
     },
     "metadata": {},
     "output_type": "display_data"
    },
    {
     "data": {
      "text/plain": []
     },
     "execution_count": 35,
     "metadata": {},
     "output_type": "execute_result"
    }
   ],
   "source": [
    "aml = H2OAutoML(max_models=10,max_runtime_secs=180, seed=1)\n",
    "aml.train(x=train_cols, y='Sales', training_frame=train)\n",
    "\n",
    "# View the AutoML Leaderboard\n",
    "lb = aml.leaderboard\n",
    "lb.head(rows=lb.nrows)  # Print all rows instead of default (10 rows)\n"
   ]
  },
  {
   "cell_type": "code",
   "execution_count": 36,
   "metadata": {},
   "outputs": [
    {
     "data": {
      "text/html": [
       "<table>\n",
       "<thead>\n",
       "<tr><th>model_id                          </th><th style=\"text-align: right;\">  mean_residual_deviance</th><th style=\"text-align: right;\">   rmse</th><th style=\"text-align: right;\">        mse</th><th style=\"text-align: right;\">    mae</th><th style=\"text-align: right;\">  rmsle</th></tr>\n",
       "</thead>\n",
       "<tbody>\n",
       "<tr><td>GLM_1_AutoML_2_20210919_185146    </td><td style=\"text-align: right;\">             3.40648e+08</td><td style=\"text-align: right;\">18456.6</td><td style=\"text-align: right;\">3.40648e+08</td><td style=\"text-align: right;\">13857.5</td><td style=\"text-align: right;\">0.48262</td></tr>\n",
       "<tr><td>XGBoost_1_AutoML_2_20210919_185146</td><td style=\"text-align: right;\">             9.41133e+08</td><td style=\"text-align: right;\">30677.9</td><td style=\"text-align: right;\">9.41133e+08</td><td style=\"text-align: right;\">26575.7</td><td style=\"text-align: right;\">1.03776</td></tr>\n",
       "</tbody>\n",
       "</table>"
      ]
     },
     "metadata": {},
     "output_type": "display_data"
    },
    {
     "data": {
      "text/plain": []
     },
     "execution_count": 36,
     "metadata": {},
     "output_type": "execute_result"
    }
   ],
   "source": [
    "lb"
   ]
  },
  {
   "cell_type": "code",
   "execution_count": null,
   "metadata": {},
   "outputs": [],
   "source": []
  },
  {
   "cell_type": "code",
   "execution_count": null,
   "metadata": {},
   "outputs": [],
   "source": []
  },
  {
   "cell_type": "code",
   "execution_count": null,
   "metadata": {},
   "outputs": [],
   "source": []
  },
  {
   "cell_type": "code",
   "execution_count": null,
   "metadata": {},
   "outputs": [],
   "source": []
  }
 ],
 "metadata": {
  "kernelspec": {
   "display_name": "hackathon",
   "language": "python",
   "name": "hackathon"
  },
  "language_info": {
   "codemirror_mode": {
    "name": "ipython",
    "version": 3
   },
   "file_extension": ".py",
   "mimetype": "text/x-python",
   "name": "python",
   "nbconvert_exporter": "python",
   "pygments_lexer": "ipython3",
   "version": "3.7.2"
  }
 },
 "nbformat": 4,
 "nbformat_minor": 2
}
